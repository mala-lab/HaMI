{
 "cells": [
  {
   "cell_type": "code",
   "execution_count": 1,
   "id": "10aca0c8",
   "metadata": {},
   "outputs": [],
   "source": [
    "import pickle\n",
    "import numpy as np\n",
    "import sys\n",
    "sys.path.append(\"..\")"
   ]
  },
  {
   "cell_type": "code",
   "execution_count": null,
   "id": "2b972283",
   "metadata": {},
   "outputs": [],
   "source": [
    "mode = 'se'\n",
    "seed = 42\n",
    "for model_name in ['llama3_8b', 'mistral_12b', 'llama3_70b']:\n",
    "    for data_name in ['trivia_qa','squad', 'nq', 'bioasq']:\n",
    "        with open(f\"results/{model_name}_{data_name}_{mode}_{seed}.pkl\", 'rb') as f:\n",
    "            data = pickle.load(f)\n",
    "            print(data.keys())\n",
    "\n",
    "        val_results = np.array(data['val'])\n",
    "        layer_index = np.argmax(val_results, axis=0)\n",
    "\n",
    "        # test results\n",
    "        for test_data_name in ['trivia_qa', 'squad', 'nq', 'bioasq']:\n",
    "            test_results = data[f\"{test_data_name}_best\"][layer_index[0]]\n",
    "            test_results_2 = data[f\"{test_data_name}\"][layer_index[1]]\n",
    "\n",
    "            print(f\"train on {data_name} and test on {test_data_name}\")\n",
    "            print(f\"evaluation results: {test_results}, {test_results_2}\")"
   ]
  },
  {
   "cell_type": "code",
   "execution_count": null,
   "id": "aace1bb4",
   "metadata": {},
   "outputs": [],
   "source": []
  }
 ],
 "metadata": {
  "kernelspec": {
   "display_name": "llm",
   "language": "python",
   "name": "python3"
  },
  "language_info": {
   "codemirror_mode": {
    "name": "ipython",
    "version": 3
   },
   "file_extension": ".py",
   "mimetype": "text/x-python",
   "name": "python",
   "nbconvert_exporter": "python",
   "pygments_lexer": "ipython3",
   "version": "3.11.7"
  }
 },
 "nbformat": 4,
 "nbformat_minor": 5
}
